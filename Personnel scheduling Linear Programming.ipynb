{
 "cells": [
  {
   "cell_type": "code",
   "execution_count": 38,
   "id": "af708f09",
   "metadata": {},
   "outputs": [],
   "source": [
    "# Import PuLP modeler functions\n",
    "from pulp import *"
   ]
  },
  {
   "cell_type": "code",
   "execution_count": 39,
   "id": "bb99d554",
   "metadata": {},
   "outputs": [],
   "source": [
    "# defining the LP minimization problem type\n",
    "prob = LpProblem(\"Per-sched\", LpMinimize)"
   ]
  },
  {
   "cell_type": "code",
   "execution_count": 40,
   "id": "7b285c25",
   "metadata": {},
   "outputs": [],
   "source": [
    "# defining variable - LpVariable(variable name, lower Bound=None, uppper Bound=None, catagory='Continuous')\n",
    "# Create a variable x1, x2, x3, x4, x5, x6, x7 >= 0\n",
    "x1 = LpVariable(\"x1\", lowBound=0) \n",
    "x2 = LpVariable(\"x2\", lowBound=0)\n",
    "x3 = LpVariable(\"x3\", lowBound=0) \n",
    "x4 = LpVariable(\"x4\", lowBound=0)\n",
    "x5 = LpVariable(\"x5\", lowBound=0) \n",
    "x6 = LpVariable(\"x6\", lowBound=0) \n",
    "x7 = LpVariable(\"x7\", lowBound=0) "
   ]
  },
  {
   "cell_type": "code",
   "execution_count": 41,
   "id": "ebb15840",
   "metadata": {},
   "outputs": [],
   "source": [
    "# Objective Function\n",
    "prob += x1 + x2 + x3 + x4 + x5 + x6 + x7"
   ]
  },
  {
   "cell_type": "code",
   "execution_count": 42,
   "id": "96fc138f",
   "metadata": {},
   "outputs": [],
   "source": [
    "# Constraints\n",
    "prob += x1 +           x4 + x5 + x6 +x7 >= 110  \n",
    "prob += x1 + x2 +           x5 + x6 +x7 >= 80 \n",
    "prob += x1 + x2 + x3 +           x6 +x7 >= 150\n",
    "prob += x1 + x2 + x3 + x4 +          x7 >= 30\n",
    "prob += x1 + x2 + x3 + x4 + x5          >= 70\n",
    "prob +=      x2 + x3 + x4 + x5 + x6     >= 160\n",
    "prob +=           x3 + x4 + x5 + x6 +x7 >= 120"
   ]
  },
  {
   "cell_type": "code",
   "execution_count": 43,
   "id": "3a22b619",
   "metadata": {},
   "outputs": [
    {
     "data": {
      "text/plain": [
       "Per-sched:\n",
       "MINIMIZE\n",
       "1*x1 + 1*x2 + 1*x3 + 1*x4 + 1*x5 + 1*x6 + 1*x7 + 0\n",
       "SUBJECT TO\n",
       "_C1: x1 + x4 + x5 + x6 + x7 >= 110\n",
       "\n",
       "_C2: x1 + x2 + x5 + x6 + x7 >= 80\n",
       "\n",
       "_C3: x1 + x2 + x3 + x6 + x7 >= 150\n",
       "\n",
       "_C4: x1 + x2 + x3 + x4 + x7 >= 30\n",
       "\n",
       "_C5: x1 + x2 + x3 + x4 + x5 >= 70\n",
       "\n",
       "_C6: x2 + x3 + x4 + x5 + x6 >= 160\n",
       "\n",
       "_C7: x3 + x4 + x5 + x6 + x7 >= 120\n",
       "\n",
       "VARIABLES\n",
       "x1 Continuous\n",
       "x2 Continuous\n",
       "x3 Continuous\n",
       "x4 Continuous\n",
       "x5 Continuous\n",
       "x6 Continuous\n",
       "x7 Continuous"
      ]
     },
     "execution_count": 43,
     "metadata": {},
     "output_type": "execute_result"
    }
   ],
   "source": [
    "# Display the LP problem\n",
    "prob"
   ]
  },
  {
   "cell_type": "code",
   "execution_count": 44,
   "id": "fdfa2ce3",
   "metadata": {},
   "outputs": [
    {
     "data": {
      "text/plain": [
       "1"
      ]
     },
     "execution_count": 44,
     "metadata": {},
     "output_type": "execute_result"
    }
   ],
   "source": [
    "# Solve with the default solver\n",
    "prob.solve()"
   ]
  },
  {
   "cell_type": "code",
   "execution_count": 45,
   "id": "ddd3c9bb",
   "metadata": {},
   "outputs": [
    {
     "name": "stdout",
     "output_type": "stream",
     "text": [
      "Status: Optimal\n"
     ]
    }
   ],
   "source": [
    "# Print the solution status\n",
    "print(\"Status:\", LpStatus[prob.status])"
   ]
  },
  {
   "cell_type": "code",
   "execution_count": 46,
   "id": "82a193af",
   "metadata": {},
   "outputs": [
    {
     "name": "stdout",
     "output_type": "stream",
     "text": [
      "x1 = 3.33333\n",
      "x2 = 40.0\n",
      "x3 = 13.3333\n",
      "x4 = 0.0\n",
      "x5 = 13.3333\n",
      "x6 = 93.3333\n",
      "x7 = 0.0\n"
     ]
    }
   ],
   "source": [
    "# Show the solution \n",
    "for v in prob.variables():\n",
    "    print (v.name, \"=\", v.varValue)"
   ]
  },
  {
   "cell_type": "code",
   "execution_count": 47,
   "id": "f8f8db90",
   "metadata": {},
   "outputs": [
    {
     "name": "stdout",
     "output_type": "stream",
     "text": [
      "objective= 163.33323000000001\n"
     ]
    }
   ],
   "source": [
    "print (\"objective=\", value(prob.objective))    "
   ]
  }
 ],
 "metadata": {
  "kernelspec": {
   "display_name": "Python 3",
   "language": "python",
   "name": "python3"
  },
  "language_info": {
   "codemirror_mode": {
    "name": "ipython",
    "version": 3
   },
   "file_extension": ".py",
   "mimetype": "text/x-python",
   "name": "python",
   "nbconvert_exporter": "python",
   "pygments_lexer": "ipython3",
   "version": "3.8.8"
  }
 },
 "nbformat": 4,
 "nbformat_minor": 5
}
