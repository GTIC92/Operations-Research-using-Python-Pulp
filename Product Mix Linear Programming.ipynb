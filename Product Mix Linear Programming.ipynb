{
 "cells": [
  {
   "cell_type": "code",
   "execution_count": 13,
   "id": "af708f09",
   "metadata": {},
   "outputs": [],
   "source": [
    "# Import PuLP modeler functions\n",
    "from pulp import *"
   ]
  },
  {
   "cell_type": "code",
   "execution_count": 14,
   "id": "bb99d554",
   "metadata": {},
   "outputs": [],
   "source": [
    "# defining the LP maximization problem type\n",
    "prob = LpProblem(\"ProductMix\", LpMaximize)"
   ]
  },
  {
   "cell_type": "code",
   "execution_count": 15,
   "id": "7b285c25",
   "metadata": {},
   "outputs": [],
   "source": [
    "# defining variable - LpVariable(variable name, lower Bound=None, uppper Bound=None, catagory='Continuous')\n",
    "x1 = LpVariable(\"x1\", lowBound=0) # Create a variable x1 >= 0\n",
    "x2 = LpVariable(\"x2\", lowBound=0) # Create another variable x2 >= 0"
   ]
  },
  {
   "cell_type": "code",
   "execution_count": 16,
   "id": "ebb15840",
   "metadata": {},
   "outputs": [],
   "source": [
    "# Objective Function\n",
    "prob += 700*x1 + 900*x2"
   ]
  },
  {
   "cell_type": "code",
   "execution_count": 17,
   "id": "96fc138f",
   "metadata": {},
   "outputs": [],
   "source": [
    "# Constraints\n",
    "prob += 3*x1 + 5*x2 <= 3600  # Wood\n",
    "prob += 1*x1 + 2*x2 <= 1600  # Labor\n",
    "prob += 50*x1 + 20*x2 <= 48000 #Machine"
   ]
  },
  {
   "cell_type": "code",
   "execution_count": 26,
   "id": "3a22b619",
   "metadata": {},
   "outputs": [
    {
     "data": {
      "text/plain": [
       "ProductMix:\n",
       "MAXIMIZE\n",
       "700*x1 + 900*x2 + 0\n",
       "SUBJECT TO\n",
       "_C1: 3 x1 + 5 x2 <= 3600\n",
       "\n",
       "_C2: x1 + 2 x2 <= 1600\n",
       "\n",
       "_C3: 50 x1 + 20 x2 <= 48000\n",
       "\n",
       "VARIABLES\n",
       "x1 Continuous\n",
       "x2 Continuous"
      ]
     },
     "execution_count": 26,
     "metadata": {},
     "output_type": "execute_result"
    }
   ],
   "source": [
    "# Display the LP problem\n",
    "prob"
   ]
  },
  {
   "cell_type": "code",
   "execution_count": 27,
   "id": "fdfa2ce3",
   "metadata": {},
   "outputs": [
    {
     "data": {
      "text/plain": [
       "1"
      ]
     },
     "execution_count": 27,
     "metadata": {},
     "output_type": "execute_result"
    }
   ],
   "source": [
    "# Solve with the default solver\n",
    "prob.solve()"
   ]
  },
  {
   "cell_type": "code",
   "execution_count": 28,
   "id": "ddd3c9bb",
   "metadata": {},
   "outputs": [
    {
     "name": "stdout",
     "output_type": "stream",
     "text": [
      "Status: Optimal\n"
     ]
    }
   ],
   "source": [
    "# Print the solution status\n",
    "print(\"Status:\", LpStatus[prob.status])"
   ]
  },
  {
   "cell_type": "code",
   "execution_count": 29,
   "id": "34730b36",
   "metadata": {},
   "outputs": [
    {
     "data": {
      "text/plain": [
       "(884.211, 189.474, 789474.2999999999)"
      ]
     },
     "execution_count": 29,
     "metadata": {},
     "output_type": "execute_result"
    }
   ],
   "source": [
    "# Show the solution (1st method)\n",
    "value(x1), value(x2), value(prob.objective)"
   ]
  },
  {
   "cell_type": "code",
   "execution_count": 30,
   "id": "82a193af",
   "metadata": {},
   "outputs": [
    {
     "name": "stdout",
     "output_type": "stream",
     "text": [
      "x1 = 884.211\n",
      "x2 = 189.474\n"
     ]
    }
   ],
   "source": [
    "# Show the solution (2nd method)\n",
    "for v in prob.variables():\n",
    "    print (v.name, \"=\", v.varValue)"
   ]
  },
  {
   "cell_type": "code",
   "execution_count": 23,
   "id": "f8f8db90",
   "metadata": {},
   "outputs": [
    {
     "name": "stdout",
     "output_type": "stream",
     "text": [
      "objective= 789474.2999999999\n"
     ]
    }
   ],
   "source": [
    "print (\"objective=\", value(prob.objective))    "
   ]
  }
 ],
 "metadata": {
  "kernelspec": {
   "display_name": "Python 3",
   "language": "python",
   "name": "python3"
  },
  "language_info": {
   "codemirror_mode": {
    "name": "ipython",
    "version": 3
   },
   "file_extension": ".py",
   "mimetype": "text/x-python",
   "name": "python",
   "nbconvert_exporter": "python",
   "pygments_lexer": "ipython3",
   "version": "3.8.8"
  }
 },
 "nbformat": 4,
 "nbformat_minor": 5
}
